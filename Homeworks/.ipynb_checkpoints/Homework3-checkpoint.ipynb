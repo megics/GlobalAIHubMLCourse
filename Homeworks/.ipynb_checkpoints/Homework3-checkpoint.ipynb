{
 "cells": [
  {
   "cell_type": "markdown",
   "metadata": {},
   "source": [
    "## Homework 3\n",
    "\n",
    "* Generate dataset using `make_blobs` function in the sklearn.datasets class. Generate 2000 samples with 3 features (X) with one label (y).\n",
    "* Explore and analyse raw data.\n",
    "* Do preprocessing for classification.\n",
    "* Split your dataset into train and test test (0.7 for train and 0.3 for test).\n",
    "* Try Decision Tree and XGBoost Algorithm with different hyperparameters. (Using GridSearchCV is a plus)\n",
    "* Evaluate your result on both train and test set. Analyse if there is any underfitting or overfitting problem. Make your comments."
   ]
  },
  {
   "cell_type": "code",
   "execution_count": 1,
   "metadata": {},
   "outputs": [],
   "source": [
    "from sklearn.datasets import make_blobs\n",
    "from sklearn.preprocessing import StandardScaler\n",
    "from sklearn.model_selection import train_test_split, GridSearchCV\n",
    "from sklearn.tree import DecisionTreeClassifier\n",
    "from sklearn.metrics import confusion_matrix\n",
    "from xgboost.sklearn import XGBClassifier\n",
    "from scipy import stats\n",
    "import matplotlib.pyplot as plt\n",
    "import pandas as pd\n",
    "import numpy as np\n",
    "import seaborn as sns"
   ]
  },
  {
   "cell_type": "markdown",
   "metadata": {},
   "source": [
    "# 1) Generate Data"
   ]
  },
  {
   "cell_type": "code",
   "execution_count": 2,
   "metadata": {},
   "outputs": [],
   "source": [
    "X, y = make_blobs(n_samples=2000, n_features=3, random_state=0)"
   ]
  },
  {
   "cell_type": "code",
   "execution_count": 3,
   "metadata": {},
   "outputs": [
    {
     "data": {
      "text/plain": [
       "((2000, 3), (2000,))"
      ]
     },
     "execution_count": 3,
     "metadata": {},
     "output_type": "execute_result"
    }
   ],
   "source": [
    "X.shape, y.shape"
   ]
  },
  {
   "cell_type": "code",
   "execution_count": 4,
   "metadata": {},
   "outputs": [],
   "source": [
    "df = pd.DataFrame(X,columns=['feature1','feature2','feature3'])"
   ]
  },
  {
   "cell_type": "code",
   "execution_count": 5,
   "metadata": {},
   "outputs": [],
   "source": [
    "df['label'] = y"
   ]
  },
  {
   "cell_type": "code",
   "execution_count": 6,
   "metadata": {},
   "outputs": [
    {
     "data": {
      "text/html": [
       "<div>\n",
       "<style scoped>\n",
       "    .dataframe tbody tr th:only-of-type {\n",
       "        vertical-align: middle;\n",
       "    }\n",
       "\n",
       "    .dataframe tbody tr th {\n",
       "        vertical-align: top;\n",
       "    }\n",
       "\n",
       "    .dataframe thead th {\n",
       "        text-align: right;\n",
       "    }\n",
       "</style>\n",
       "<table border=\"1\" class=\"dataframe\">\n",
       "  <thead>\n",
       "    <tr style=\"text-align: right;\">\n",
       "      <th></th>\n",
       "      <th>feature1</th>\n",
       "      <th>feature2</th>\n",
       "      <th>feature3</th>\n",
       "      <th>label</th>\n",
       "    </tr>\n",
       "  </thead>\n",
       "  <tbody>\n",
       "    <tr>\n",
       "      <th>0</th>\n",
       "      <td>0.378197</td>\n",
       "      <td>-0.822654</td>\n",
       "      <td>4.412505</td>\n",
       "      <td>1</td>\n",
       "    </tr>\n",
       "    <tr>\n",
       "      <th>1</th>\n",
       "      <td>0.112908</td>\n",
       "      <td>8.072768</td>\n",
       "      <td>9.914998</td>\n",
       "      <td>2</td>\n",
       "    </tr>\n",
       "    <tr>\n",
       "      <th>2</th>\n",
       "      <td>1.875986</td>\n",
       "      <td>-2.862337</td>\n",
       "      <td>1.955307</td>\n",
       "      <td>1</td>\n",
       "    </tr>\n",
       "    <tr>\n",
       "      <th>3</th>\n",
       "      <td>-1.210594</td>\n",
       "      <td>6.876798</td>\n",
       "      <td>9.223306</td>\n",
       "      <td>2</td>\n",
       "    </tr>\n",
       "    <tr>\n",
       "      <th>4</th>\n",
       "      <td>2.095730</td>\n",
       "      <td>3.335208</td>\n",
       "      <td>3.288496</td>\n",
       "      <td>0</td>\n",
       "    </tr>\n",
       "    <tr>\n",
       "      <th>...</th>\n",
       "      <td>...</td>\n",
       "      <td>...</td>\n",
       "      <td>...</td>\n",
       "      <td>...</td>\n",
       "    </tr>\n",
       "    <tr>\n",
       "      <th>1995</th>\n",
       "      <td>1.400683</td>\n",
       "      <td>5.393096</td>\n",
       "      <td>1.671082</td>\n",
       "      <td>0</td>\n",
       "    </tr>\n",
       "    <tr>\n",
       "      <th>1996</th>\n",
       "      <td>-2.237195</td>\n",
       "      <td>6.910680</td>\n",
       "      <td>8.794924</td>\n",
       "      <td>2</td>\n",
       "    </tr>\n",
       "    <tr>\n",
       "      <th>1997</th>\n",
       "      <td>1.582651</td>\n",
       "      <td>-0.526795</td>\n",
       "      <td>2.355266</td>\n",
       "      <td>1</td>\n",
       "    </tr>\n",
       "    <tr>\n",
       "      <th>1998</th>\n",
       "      <td>-1.033492</td>\n",
       "      <td>8.516043</td>\n",
       "      <td>9.546055</td>\n",
       "      <td>2</td>\n",
       "    </tr>\n",
       "    <tr>\n",
       "      <th>1999</th>\n",
       "      <td>2.269996</td>\n",
       "      <td>-2.522649</td>\n",
       "      <td>1.755616</td>\n",
       "      <td>1</td>\n",
       "    </tr>\n",
       "  </tbody>\n",
       "</table>\n",
       "<p>2000 rows × 4 columns</p>\n",
       "</div>"
      ],
      "text/plain": [
       "      feature1  feature2  feature3  label\n",
       "0     0.378197 -0.822654  4.412505      1\n",
       "1     0.112908  8.072768  9.914998      2\n",
       "2     1.875986 -2.862337  1.955307      1\n",
       "3    -1.210594  6.876798  9.223306      2\n",
       "4     2.095730  3.335208  3.288496      0\n",
       "...        ...       ...       ...    ...\n",
       "1995  1.400683  5.393096  1.671082      0\n",
       "1996 -2.237195  6.910680  8.794924      2\n",
       "1997  1.582651 -0.526795  2.355266      1\n",
       "1998 -1.033492  8.516043  9.546055      2\n",
       "1999  2.269996 -2.522649  1.755616      1\n",
       "\n",
       "[2000 rows x 4 columns]"
      ]
     },
     "execution_count": 6,
     "metadata": {},
     "output_type": "execute_result"
    }
   ],
   "source": [
    "df"
   ]
  },
  {
   "cell_type": "code",
   "execution_count": 7,
   "metadata": {},
   "outputs": [
    {
     "data": {
      "text/html": [
       "<div>\n",
       "<style scoped>\n",
       "    .dataframe tbody tr th:only-of-type {\n",
       "        vertical-align: middle;\n",
       "    }\n",
       "\n",
       "    .dataframe tbody tr th {\n",
       "        vertical-align: top;\n",
       "    }\n",
       "\n",
       "    .dataframe thead th {\n",
       "        text-align: right;\n",
       "    }\n",
       "</style>\n",
       "<table border=\"1\" class=\"dataframe\">\n",
       "  <thead>\n",
       "    <tr style=\"text-align: right;\">\n",
       "      <th></th>\n",
       "      <th>feature1</th>\n",
       "      <th>feature2</th>\n",
       "      <th>feature3</th>\n",
       "      <th>label</th>\n",
       "    </tr>\n",
       "  </thead>\n",
       "  <tbody>\n",
       "    <tr>\n",
       "      <th>count</th>\n",
       "      <td>2000.000000</td>\n",
       "      <td>2000.000000</td>\n",
       "      <td>2000.000000</td>\n",
       "      <td>2000.000000</td>\n",
       "    </tr>\n",
       "    <tr>\n",
       "      <th>mean</th>\n",
       "      <td>0.240772</td>\n",
       "      <td>3.493821</td>\n",
       "      <td>4.739933</td>\n",
       "      <td>0.999500</td>\n",
       "    </tr>\n",
       "    <tr>\n",
       "      <th>std</th>\n",
       "      <td>1.420266</td>\n",
       "      <td>4.002951</td>\n",
       "      <td>3.407143</td>\n",
       "      <td>0.816599</td>\n",
       "    </tr>\n",
       "    <tr>\n",
       "      <th>min</th>\n",
       "      <td>-4.365209</td>\n",
       "      <td>-5.351844</td>\n",
       "      <td>-1.459501</td>\n",
       "      <td>0.000000</td>\n",
       "    </tr>\n",
       "    <tr>\n",
       "      <th>25%</th>\n",
       "      <td>-0.758331</td>\n",
       "      <td>-0.964595</td>\n",
       "      <td>2.115543</td>\n",
       "      <td>0.000000</td>\n",
       "    </tr>\n",
       "    <tr>\n",
       "      <th>50%</th>\n",
       "      <td>0.381250</td>\n",
       "      <td>4.278380</td>\n",
       "      <td>3.208216</td>\n",
       "      <td>1.000000</td>\n",
       "    </tr>\n",
       "    <tr>\n",
       "      <th>75%</th>\n",
       "      <td>1.244579</td>\n",
       "      <td>7.137660</td>\n",
       "      <td>8.649354</td>\n",
       "      <td>2.000000</td>\n",
       "    </tr>\n",
       "    <tr>\n",
       "      <th>max</th>\n",
       "      <td>4.077801</td>\n",
       "      <td>11.046691</td>\n",
       "      <td>12.079492</td>\n",
       "      <td>2.000000</td>\n",
       "    </tr>\n",
       "  </tbody>\n",
       "</table>\n",
       "</div>"
      ],
      "text/plain": [
       "          feature1     feature2     feature3        label\n",
       "count  2000.000000  2000.000000  2000.000000  2000.000000\n",
       "mean      0.240772     3.493821     4.739933     0.999500\n",
       "std       1.420266     4.002951     3.407143     0.816599\n",
       "min      -4.365209    -5.351844    -1.459501     0.000000\n",
       "25%      -0.758331    -0.964595     2.115543     0.000000\n",
       "50%       0.381250     4.278380     3.208216     1.000000\n",
       "75%       1.244579     7.137660     8.649354     2.000000\n",
       "max       4.077801    11.046691    12.079492     2.000000"
      ]
     },
     "execution_count": 7,
     "metadata": {},
     "output_type": "execute_result"
    }
   ],
   "source": [
    "df.describe()"
   ]
  },
  {
   "cell_type": "code",
   "execution_count": 8,
   "metadata": {},
   "outputs": [
    {
     "name": "stdout",
     "output_type": "stream",
     "text": [
      "<class 'pandas.core.frame.DataFrame'>\n",
      "RangeIndex: 2000 entries, 0 to 1999\n",
      "Data columns (total 4 columns):\n",
      " #   Column    Non-Null Count  Dtype  \n",
      "---  ------    --------------  -----  \n",
      " 0   feature1  2000 non-null   float64\n",
      " 1   feature2  2000 non-null   float64\n",
      " 2   feature3  2000 non-null   float64\n",
      " 3   label     2000 non-null   int64  \n",
      "dtypes: float64(3), int64(1)\n",
      "memory usage: 62.6 KB\n"
     ]
    }
   ],
   "source": [
    "df.info()"
   ]
  },
  {
   "cell_type": "markdown",
   "metadata": {},
   "source": [
    "# 2) Explore Data "
   ]
  },
  {
   "cell_type": "markdown",
   "metadata": {},
   "source": [
    "## 2.1) Label Balance Control"
   ]
  },
  {
   "cell_type": "code",
   "execution_count": 9,
   "metadata": {},
   "outputs": [
    {
     "data": {
      "text/plain": [
       "array([1, 2, 0])"
      ]
     },
     "execution_count": 9,
     "metadata": {},
     "output_type": "execute_result"
    }
   ],
   "source": [
    "df['label'].unique()"
   ]
  },
  {
   "cell_type": "code",
   "execution_count": 10,
   "metadata": {},
   "outputs": [
    {
     "data": {
      "text/plain": [
       "<AxesSubplot:xlabel='label'>"
      ]
     },
     "execution_count": 10,
     "metadata": {},
     "output_type": "execute_result"
    },
    {
     "data": {
      "image/png": "[encoded data removed]",
      "text/plain": [
       "<Figure size 432x288 with 1 Axes>"
      ]
     },
     "metadata": {
      "needs_background": "light"
     },
     "output_type": "display_data"
    }
   ],
   "source": [
    "df.groupby(['label']).size().plot(kind = \"bar\") "
   ]
  },
  {
   "cell_type": "markdown",
   "metadata": {},
   "source": [
    "## 2.2) Outlier Analysis"
   ]
  },
  {
   "cell_type": "code",
   "execution_count": 11,
   "metadata": {},
   "outputs": [],
   "source": [
    "df_X = df.drop(['label'],axis=1)"
   ]
  },
  {
   "cell_type": "code",
   "execution_count": 12,
   "metadata": {},
   "outputs": [],
   "source": [
    "z = np.abs(stats.zscore(df_X))"
   ]
  },
  {
   "cell_type": "code",
   "execution_count": 13,
   "metadata": {},
   "outputs": [],
   "source": [
    "outliers = list(set(np.where(z>3)[0]))"
   ]
  },
  {
   "cell_type": "code",
   "execution_count": 14,
   "metadata": {},
   "outputs": [
    {
     "data": {
      "text/plain": [
       "2"
      ]
     },
     "execution_count": 14,
     "metadata": {},
     "output_type": "execute_result"
    }
   ],
   "source": [
    "len(outliers)"
   ]
  },
  {
   "cell_type": "code",
   "execution_count": 15,
   "metadata": {},
   "outputs": [],
   "source": [
    "new_df = df_X.drop(outliers,axis = 0).reset_index(drop = False)"
   ]
  },
  {
   "cell_type": "code",
   "execution_count": 16,
   "metadata": {},
   "outputs": [],
   "source": [
    "X_new = new_df.drop('index', axis = 1)"
   ]
  },
  {
   "cell_type": "code",
   "execution_count": 17,
   "metadata": {},
   "outputs": [],
   "source": [
    "y_new = y[list(new_df[\"index\"])]"
   ]
  },
  {
   "cell_type": "code",
   "execution_count": 18,
   "metadata": {},
   "outputs": [
    {
     "data": {
      "text/plain": [
       "((1998, 3), (1998,))"
      ]
     },
     "execution_count": 18,
     "metadata": {},
     "output_type": "execute_result"
    }
   ],
   "source": [
    "X_new.shape, y_new.shape"
   ]
  },
  {
   "cell_type": "markdown",
   "metadata": {},
   "source": [
    "## 2.3) Scaling"
   ]
  },
  {
   "cell_type": "code",
   "execution_count": 19,
   "metadata": {},
   "outputs": [],
   "source": [
    "X_scaled = StandardScaler().fit_transform(X_new)\n",
    "X_scaled = pd.DataFrame(X_scaled, columns = X_new.columns) "
   ]
  },
  {
   "cell_type": "code",
   "execution_count": 20,
   "metadata": {},
   "outputs": [
    {
     "data": {
      "text/html": [
       "<div>\n",
       "<style scoped>\n",
       "    .dataframe tbody tr th:only-of-type {\n",
       "        vertical-align: middle;\n",
       "    }\n",
       "\n",
       "    .dataframe tbody tr th {\n",
       "        vertical-align: top;\n",
       "    }\n",
       "\n",
       "    .dataframe thead th {\n",
       "        text-align: right;\n",
       "    }\n",
       "</style>\n",
       "<table border=\"1\" class=\"dataframe\">\n",
       "  <thead>\n",
       "    <tr style=\"text-align: right;\">\n",
       "      <th></th>\n",
       "      <th>feature1</th>\n",
       "      <th>feature2</th>\n",
       "      <th>feature3</th>\n",
       "    </tr>\n",
       "  </thead>\n",
       "  <tbody>\n",
       "    <tr>\n",
       "      <th>0</th>\n",
       "      <td>0.094000</td>\n",
       "      <td>-1.077679</td>\n",
       "      <td>-0.094952</td>\n",
       "    </tr>\n",
       "    <tr>\n",
       "      <th>1</th>\n",
       "      <td>-0.093721</td>\n",
       "      <td>1.145936</td>\n",
       "      <td>1.520780</td>\n",
       "    </tr>\n",
       "    <tr>\n",
       "      <th>2</th>\n",
       "      <td>1.153853</td>\n",
       "      <td>-1.587544</td>\n",
       "      <td>-0.816475</td>\n",
       "    </tr>\n",
       "    <tr>\n",
       "      <th>3</th>\n",
       "      <td>-1.030247</td>\n",
       "      <td>0.846976</td>\n",
       "      <td>1.317674</td>\n",
       "    </tr>\n",
       "    <tr>\n",
       "      <th>4</th>\n",
       "      <td>1.309346</td>\n",
       "      <td>-0.038326</td>\n",
       "      <td>-0.425002</td>\n",
       "    </tr>\n",
       "    <tr>\n",
       "      <th>...</th>\n",
       "      <td>...</td>\n",
       "      <td>...</td>\n",
       "      <td>...</td>\n",
       "    </tr>\n",
       "    <tr>\n",
       "      <th>1993</th>\n",
       "      <td>0.817522</td>\n",
       "      <td>0.476090</td>\n",
       "      <td>-0.899934</td>\n",
       "    </tr>\n",
       "    <tr>\n",
       "      <th>1994</th>\n",
       "      <td>-1.756681</td>\n",
       "      <td>0.855445</td>\n",
       "      <td>1.191885</td>\n",
       "    </tr>\n",
       "    <tr>\n",
       "      <th>1995</th>\n",
       "      <td>0.946285</td>\n",
       "      <td>-1.003722</td>\n",
       "      <td>-0.699032</td>\n",
       "    </tr>\n",
       "    <tr>\n",
       "      <th>1996</th>\n",
       "      <td>-0.904927</td>\n",
       "      <td>1.256743</td>\n",
       "      <td>1.412445</td>\n",
       "    </tr>\n",
       "    <tr>\n",
       "      <th>1997</th>\n",
       "      <td>1.432658</td>\n",
       "      <td>-1.502631</td>\n",
       "      <td>-0.875112</td>\n",
       "    </tr>\n",
       "  </tbody>\n",
       "</table>\n",
       "<p>1998 rows × 3 columns</p>\n",
       "</div>"
      ],
      "text/plain": [
       "      feature1  feature2  feature3\n",
       "0     0.094000 -1.077679 -0.094952\n",
       "1    -0.093721  1.145936  1.520780\n",
       "2     1.153853 -1.587544 -0.816475\n",
       "3    -1.030247  0.846976  1.317674\n",
       "4     1.309346 -0.038326 -0.425002\n",
       "...        ...       ...       ...\n",
       "1993  0.817522  0.476090 -0.899934\n",
       "1994 -1.756681  0.855445  1.191885\n",
       "1995  0.946285 -1.003722 -0.699032\n",
       "1996 -0.904927  1.256743  1.412445\n",
       "1997  1.432658 -1.502631 -0.875112\n",
       "\n",
       "[1998 rows x 3 columns]"
      ]
     },
     "execution_count": 20,
     "metadata": {},
     "output_type": "execute_result"
    }
   ],
   "source": [
    "X_scaled"
   ]
  },
  {
   "cell_type": "markdown",
   "metadata": {},
   "source": [
    "## 2.3) Train / Test Split"
   ]
  },
  {
   "cell_type": "code",
   "execution_count": 21,
   "metadata": {},
   "outputs": [],
   "source": [
    "X_train, X_test, y_train, y_test = train_test_split(X_scaled, y_new, test_size = 0.3) "
   ]
  },
  {
   "cell_type": "code",
   "execution_count": 22,
   "metadata": {},
   "outputs": [
    {
     "data": {
      "text/plain": [
       "((1398, 3), (1398,), (600, 3), (600,))"
      ]
     },
     "execution_count": 22,
     "metadata": {},
     "output_type": "execute_result"
    }
   ],
   "source": [
    "X_train.shape, y_train.shape, X_test.shape, y_test.shape"
   ]
  },
  {
   "cell_type": "markdown",
   "metadata": {},
   "source": [
    "# 3) Decision Tree Models"
   ]
  },
  {
   "cell_type": "code",
   "execution_count": 23,
   "metadata": {},
   "outputs": [],
   "source": [
    "params_dt = {\n",
    "    'max_depth':range(3,10,2),\n",
    "    'criterion':['gini', 'entropy'],\n",
    "    'splitter':['best','random']    \n",
    "}"
   ]
  },
  {
   "cell_type": "code",
   "execution_count": 24,
   "metadata": {},
   "outputs": [],
   "source": [
    "dt = DecisionTreeClassifier(max_depth=3,criterion='gini',splitter='best')"
   ]
  },
  {
   "cell_type": "code",
   "execution_count": 25,
   "metadata": {},
   "outputs": [],
   "source": [
    "clf_dt = GridSearchCV(dt,params_dt,cv=3, n_jobs = -1, return_train_score=True).fit(X_train,y_train)"
   ]
  },
  {
   "cell_type": "code",
   "execution_count": 26,
   "metadata": {},
   "outputs": [
    {
     "name": "stdout",
     "output_type": "stream",
     "text": [
      "Tuned: {'criterion': 'gini', 'max_depth': 3, 'splitter': 'best'}\n",
      "Mean of the cv scores is 0.998569\n",
      "Train Score 1.000000\n",
      "Test Score 0.996667\n"
     ]
    }
   ],
   "source": [
    "print(\"Tuned: {}\".format(clf_dt.best_params_)) \n",
    "print(\"Mean of the cv scores is {:.6f}\".format(clf_dt.best_score_))\n",
    "print(\"Train Score {:.6f}\".format(clf_dt.score(X_train,y_train)))\n",
    "print(\"Test Score {:.6f}\".format(clf_dt.score(X_test,y_test)))"
   ]
  },
  {
   "cell_type": "code",
   "execution_count": 27,
   "metadata": {},
   "outputs": [
    {
     "data": {
      "image/png": "[encoded data removed]",
      "text/plain": [
       "<Figure size 864x576 with 1 Axes>"
      ]
     },
     "metadata": {
      "needs_background": "light"
     },
     "output_type": "display_data"
    }
   ],
   "source": [
    "plt.figure(figsize=(12, 8))\n",
    "clf_dt_pred = clf_dt.predict(X_test)\n",
    "cm = confusion_matrix(y_test, clf_dt_pred)\n",
    "ax = sns.heatmap(cm, square=True, annot=True, cbar=False, fmt = '')\n",
    "ax.xaxis.set_ticklabels(df['label'].unique(), fontsize = 12)\n",
    "ax.yaxis.set_ticklabels(df['label'].unique(), fontsize = 12)\n",
    "ax.set_xlabel('Predicted Labels',fontsize = 15)\n",
    "ax.set_ylabel('True Labels',fontsize = 15)\n",
    "plt.show()"
   ]
  },
  {
   "cell_type": "code",
   "execution_count": 39,
   "metadata": {},
   "outputs": [
    {
     "data": {
      "text/html": [
       "<div>\n",
       "<style scoped>\n",
       "    .dataframe tbody tr th:only-of-type {\n",
       "        vertical-align: middle;\n",
       "    }\n",
       "\n",
       "    .dataframe tbody tr th {\n",
       "        vertical-align: top;\n",
       "    }\n",
       "\n",
       "    .dataframe thead th {\n",
       "        text-align: right;\n",
       "    }\n",
       "</style>\n",
       "<table border=\"1\" class=\"dataframe\">\n",
       "  <thead>\n",
       "    <tr style=\"text-align: right;\">\n",
       "      <th></th>\n",
       "      <th>mean_fit_time</th>\n",
       "      <th>std_fit_time</th>\n",
       "      <th>mean_score_time</th>\n",
       "      <th>std_score_time</th>\n",
       "      <th>param_criterion</th>\n",
       "      <th>param_max_depth</th>\n",
       "      <th>param_splitter</th>\n",
       "      <th>params</th>\n",
       "      <th>split0_test_score</th>\n",
       "      <th>split1_test_score</th>\n",
       "      <th>split2_test_score</th>\n",
       "      <th>mean_test_score</th>\n",
       "      <th>std_test_score</th>\n",
       "      <th>rank_test_score</th>\n",
       "      <th>split0_train_score</th>\n",
       "      <th>split1_train_score</th>\n",
       "      <th>split2_train_score</th>\n",
       "      <th>mean_train_score</th>\n",
       "      <th>std_train_score</th>\n",
       "    </tr>\n",
       "  </thead>\n",
       "  <tbody>\n",
       "    <tr>\n",
       "      <th>0</th>\n",
       "      <td>0.004438</td>\n",
       "      <td>0.000062</td>\n",
       "      <td>0.002372</td>\n",
       "      <td>0.000002</td>\n",
       "      <td>gini</td>\n",
       "      <td>3</td>\n",
       "      <td>best</td>\n",
       "      <td>{'criterion': 'gini', 'max_depth': 3, 'splitte...</td>\n",
       "      <td>0.997854</td>\n",
       "      <td>0.997854</td>\n",
       "      <td>1.000000</td>\n",
       "      <td>0.998569</td>\n",
       "      <td>0.001012</td>\n",
       "      <td>1</td>\n",
       "      <td>1.000000</td>\n",
       "      <td>1.000000</td>\n",
       "      <td>1.000000</td>\n",
       "      <td>1.000000</td>\n",
       "      <td>0.000000</td>\n",
       "    </tr>\n",
       "    <tr>\n",
       "      <th>1</th>\n",
       "      <td>0.003962</td>\n",
       "      <td>0.000012</td>\n",
       "      <td>0.002306</td>\n",
       "      <td>0.000013</td>\n",
       "      <td>gini</td>\n",
       "      <td>3</td>\n",
       "      <td>random</td>\n",
       "      <td>{'criterion': 'gini', 'max_depth': 3, 'splitte...</td>\n",
       "      <td>0.817597</td>\n",
       "      <td>0.714592</td>\n",
       "      <td>0.946352</td>\n",
       "      <td>0.826180</td>\n",
       "      <td>0.094810</td>\n",
       "      <td>16</td>\n",
       "      <td>0.828326</td>\n",
       "      <td>0.725322</td>\n",
       "      <td>0.963519</td>\n",
       "      <td>0.839056</td>\n",
       "      <td>0.097539</td>\n",
       "    </tr>\n",
       "    <tr>\n",
       "      <th>2</th>\n",
       "      <td>0.004212</td>\n",
       "      <td>0.000367</td>\n",
       "      <td>0.002441</td>\n",
       "      <td>0.000107</td>\n",
       "      <td>gini</td>\n",
       "      <td>5</td>\n",
       "      <td>best</td>\n",
       "      <td>{'criterion': 'gini', 'max_depth': 5, 'splitte...</td>\n",
       "      <td>0.997854</td>\n",
       "      <td>0.997854</td>\n",
       "      <td>1.000000</td>\n",
       "      <td>0.998569</td>\n",
       "      <td>0.001012</td>\n",
       "      <td>1</td>\n",
       "      <td>1.000000</td>\n",
       "      <td>1.000000</td>\n",
       "      <td>1.000000</td>\n",
       "      <td>1.000000</td>\n",
       "      <td>0.000000</td>\n",
       "    </tr>\n",
       "    <tr>\n",
       "      <th>3</th>\n",
       "      <td>0.003317</td>\n",
       "      <td>0.000055</td>\n",
       "      <td>0.002311</td>\n",
       "      <td>0.000022</td>\n",
       "      <td>gini</td>\n",
       "      <td>5</td>\n",
       "      <td>random</td>\n",
       "      <td>{'criterion': 'gini', 'max_depth': 5, 'splitte...</td>\n",
       "      <td>1.000000</td>\n",
       "      <td>0.997854</td>\n",
       "      <td>0.935622</td>\n",
       "      <td>0.977825</td>\n",
       "      <td>0.029855</td>\n",
       "      <td>14</td>\n",
       "      <td>0.997854</td>\n",
       "      <td>1.000000</td>\n",
       "      <td>0.927039</td>\n",
       "      <td>0.974964</td>\n",
       "      <td>0.033900</td>\n",
       "    </tr>\n",
       "    <tr>\n",
       "      <th>4</th>\n",
       "      <td>0.004219</td>\n",
       "      <td>0.000587</td>\n",
       "      <td>0.002524</td>\n",
       "      <td>0.000201</td>\n",
       "      <td>gini</td>\n",
       "      <td>7</td>\n",
       "      <td>best</td>\n",
       "      <td>{'criterion': 'gini', 'max_depth': 7, 'splitte...</td>\n",
       "      <td>0.997854</td>\n",
       "      <td>0.997854</td>\n",
       "      <td>1.000000</td>\n",
       "      <td>0.998569</td>\n",
       "      <td>0.001012</td>\n",
       "      <td>1</td>\n",
       "      <td>1.000000</td>\n",
       "      <td>1.000000</td>\n",
       "      <td>1.000000</td>\n",
       "      <td>1.000000</td>\n",
       "      <td>0.000000</td>\n",
       "    </tr>\n",
       "  </tbody>\n",
       "</table>\n",
       "</div>"
      ],
      "text/plain": [
       "   mean_fit_time  std_fit_time  mean_score_time  std_score_time  \\\n",
       "0       0.004438      0.000062         0.002372        0.000002   \n",
       "1       0.003962      0.000012         0.002306        0.000013   \n",
       "2       0.004212      0.000367         0.002441        0.000107   \n",
       "3       0.003317      0.000055         0.002311        0.000022   \n",
       "4       0.004219      0.000587         0.002524        0.000201   \n",
       "\n",
       "  param_criterion param_max_depth param_splitter  \\\n",
       "0            gini               3           best   \n",
       "1            gini               3         random   \n",
       "2            gini               5           best   \n",
       "3            gini               5         random   \n",
       "4            gini               7           best   \n",
       "\n",
       "                                              params  split0_test_score  \\\n",
       "0  {'criterion': 'gini', 'max_depth': 3, 'splitte...           0.997854   \n",
       "1  {'criterion': 'gini', 'max_depth': 3, 'splitte...           0.817597   \n",
       "2  {'criterion': 'gini', 'max_depth': 5, 'splitte...           0.997854   \n",
       "3  {'criterion': 'gini', 'max_depth': 5, 'splitte...           1.000000   \n",
       "4  {'criterion': 'gini', 'max_depth': 7, 'splitte...           0.997854   \n",
       "\n",
       "   split1_test_score  split2_test_score  mean_test_score  std_test_score  \\\n",
       "0           0.997854           1.000000         0.998569        0.001012   \n",
       "1           0.714592           0.946352         0.826180        0.094810   \n",
       "2           0.997854           1.000000         0.998569        0.001012   \n",
       "3           0.997854           0.935622         0.977825        0.029855   \n",
       "4           0.997854           1.000000         0.998569        0.001012   \n",
       "\n",
       "   rank_test_score  split0_train_score  split1_train_score  \\\n",
       "0                1            1.000000            1.000000   \n",
       "1               16            0.828326            0.725322   \n",
       "2                1            1.000000            1.000000   \n",
       "3               14            0.997854            1.000000   \n",
       "4                1            1.000000            1.000000   \n",
       "\n",
       "   split2_train_score  mean_train_score  std_train_score  \n",
       "0            1.000000          1.000000         0.000000  \n",
       "1            0.963519          0.839056         0.097539  \n",
       "2            1.000000          1.000000         0.000000  \n",
       "3            0.927039          0.974964         0.033900  \n",
       "4            1.000000          1.000000         0.000000  "
      ]
     },
     "execution_count": 39,
     "metadata": {},
     "output_type": "execute_result"
    }
   ],
   "source": [
    "df_dt = pd.DataFrame(clf_dt.cv_results_)\n",
    "df_dt.head()"
   ]
  },
  {
   "cell_type": "code",
   "execution_count": 29,
   "metadata": {},
   "outputs": [
    {
     "data": {
      "image/png": "[encoded data removed]",
      "text/plain": [
       "<Figure size 432x288 with 1 Axes>"
      ]
     },
     "metadata": {
      "needs_background": "light"
     },
     "output_type": "display_data"
    }
   ],
   "source": [
    "test_scores = clf_dt.cv_results_['mean_test_score']\n",
    "train_scores = clf_dt.cv_results_['mean_train_score'] \n",
    "\n",
    "plt.plot(test_scores, label='test')\n",
    "plt.plot(train_scores, label='train')\n",
    "plt.legend(loc='best')\n",
    "plt.show()"
   ]
  },
  {
   "cell_type": "markdown",
   "metadata": {},
   "source": [
    "- I think there are no overfitting or underfitting. \n",
    "- This plot above demonstrates a case of a good fit. Because these curves seem as same distribution.\n",
    "- The plot of test accuracy increases to a point of stability and has a small gap with the training accuracy."
   ]
  },
  {
   "cell_type": "markdown",
   "metadata": {},
   "source": [
    "# 4) XGBoost Models"
   ]
  },
  {
   "cell_type": "code",
   "execution_count": 31,
   "metadata": {},
   "outputs": [],
   "source": [
    "params_xgb = {\n",
    "    'max_depth':range(3,10,2),\n",
    "    'min_child_weight':range(1,6,2),\n",
    "    'learning_rate': [0.0001,0.001,0.01,0.1,1,2],\n",
    "    'n_estimators': [10,50,100,200,250]\n",
    "}"
   ]
  },
  {
   "cell_type": "code",
   "execution_count": 32,
   "metadata": {},
   "outputs": [],
   "source": [
    "xgb = XGBClassifier(booster='gbtree', learning_rate =0.01, n_estimators=200, max_depth=5, min_child_weight=1)"
   ]
  },
  {
   "cell_type": "code",
   "execution_count": 33,
   "metadata": {},
   "outputs": [
    {
     "name": "stdout",
     "output_type": "stream",
     "text": [
      "[12:54:23] WARNING: /Users/travis/build/dmlc/xgboost/src/learner.cc:1061: Starting in XGBoost 1.3.0, the default evaluation metric used with the objective 'multi:softprob' was changed from 'merror' to 'mlogloss'. Explicitly set eval_metric if you'd like to restore the old behavior.\n"
     ]
    },
    {
     "name": "stderr",
     "output_type": "stream",
     "text": [
      "/usr/local/lib/python3.8/site-packages/xgboost/sklearn.py:892: UserWarning: The use of label encoder in XGBClassifier is deprecated and will be removed in a future release. To remove this warning, do the following: 1) Pass option use_label_encoder=False when constructing XGBClassifier object; and 2) Encode your labels (y) as integers starting with 0, i.e. 0, 1, 2, ..., [num_class - 1].\n",
      "  warnings.warn(label_encoder_deprecation_msg, UserWarning)\n"
     ]
    }
   ],
   "source": [
    "clf_xgb = GridSearchCV(xgb,params_xgb,cv=3, n_jobs = -1, return_train_score=True).fit(X_train,y_train)"
   ]
  },
  {
   "cell_type": "code",
   "execution_count": 34,
   "metadata": {},
   "outputs": [
    {
     "name": "stdout",
     "output_type": "stream",
     "text": [
      "Tuned: {'learning_rate': 0.0001, 'max_depth': 3, 'min_child_weight': 1, 'n_estimators': 10}\n",
      "Mean of the cv scores is 0.997854\n",
      "Train Score 1.000000\n",
      "Test Score 0.996667\n"
     ]
    }
   ],
   "source": [
    "print(\"Tuned: {}\".format(clf_xgb.best_params_)) \n",
    "print(\"Mean of the cv scores is {:.6f}\".format(clf_xgb.best_score_))\n",
    "print(\"Train Score {:.6f}\".format(clf_xgb.score(X_train,y_train)))\n",
    "print(\"Test Score {:.6f}\".format(clf_xgb.score(X_test,y_test)))"
   ]
  },
  {
   "cell_type": "code",
   "execution_count": 35,
   "metadata": {},
   "outputs": [
    {
     "data": {
      "image/png": "[encoded data removed]",
      "text/plain": [
       "<Figure size 864x576 with 1 Axes>"
      ]
     },
     "metadata": {
      "needs_background": "light"
     },
     "output_type": "display_data"
    }
   ],
   "source": [
    "plt.figure(figsize=(12, 8))\n",
    "clf_xgb_pred = clf_xgb.predict(X_test)\n",
    "cm = confusion_matrix(y_test, clf_xgb_pred)\n",
    "ax = sns.heatmap(cm, square=True, annot=True, cbar=False, fmt = '')\n",
    "ax.xaxis.set_ticklabels(df['label'].unique(), fontsize = 12)\n",
    "ax.yaxis.set_ticklabels(df['label'].unique(), fontsize = 12, rotation=0)\n",
    "ax.set_xlabel('Predicted Labels',fontsize = 15)\n",
    "ax.set_ylabel('True Labels',fontsize = 15)\n",
    "plt.show()"
   ]
  },
  {
   "cell_type": "code",
   "execution_count": 38,
   "metadata": {},
   "outputs": [
    {
     "data": {
      "text/html": [
       "<div>\n",
       "<style scoped>\n",
       "    .dataframe tbody tr th:only-of-type {\n",
       "        vertical-align: middle;\n",
       "    }\n",
       "\n",
       "    .dataframe tbody tr th {\n",
       "        vertical-align: top;\n",
       "    }\n",
       "\n",
       "    .dataframe thead th {\n",
       "        text-align: right;\n",
       "    }\n",
       "</style>\n",
       "<table border=\"1\" class=\"dataframe\">\n",
       "  <thead>\n",
       "    <tr style=\"text-align: right;\">\n",
       "      <th></th>\n",
       "      <th>mean_fit_time</th>\n",
       "      <th>std_fit_time</th>\n",
       "      <th>mean_score_time</th>\n",
       "      <th>std_score_time</th>\n",
       "      <th>param_learning_rate</th>\n",
       "      <th>param_max_depth</th>\n",
       "      <th>param_min_child_weight</th>\n",
       "      <th>param_n_estimators</th>\n",
       "      <th>params</th>\n",
       "      <th>split0_test_score</th>\n",
       "      <th>split1_test_score</th>\n",
       "      <th>split2_test_score</th>\n",
       "      <th>mean_test_score</th>\n",
       "      <th>std_test_score</th>\n",
       "      <th>rank_test_score</th>\n",
       "      <th>split0_train_score</th>\n",
       "      <th>split1_train_score</th>\n",
       "      <th>split2_train_score</th>\n",
       "      <th>mean_train_score</th>\n",
       "      <th>std_train_score</th>\n",
       "    </tr>\n",
       "  </thead>\n",
       "  <tbody>\n",
       "    <tr>\n",
       "      <th>0</th>\n",
       "      <td>0.342153</td>\n",
       "      <td>0.029879</td>\n",
       "      <td>0.005097</td>\n",
       "      <td>0.001212</td>\n",
       "      <td>0.0001</td>\n",
       "      <td>3</td>\n",
       "      <td>1</td>\n",
       "      <td>10</td>\n",
       "      <td>{'learning_rate': 0.0001, 'max_depth': 3, 'min...</td>\n",
       "      <td>0.997854</td>\n",
       "      <td>0.997854</td>\n",
       "      <td>0.997854</td>\n",
       "      <td>0.997854</td>\n",
       "      <td>0.0</td>\n",
       "      <td>1</td>\n",
       "      <td>1.0</td>\n",
       "      <td>1.0</td>\n",
       "      <td>1.0</td>\n",
       "      <td>1.0</td>\n",
       "      <td>0.0</td>\n",
       "    </tr>\n",
       "    <tr>\n",
       "      <th>1</th>\n",
       "      <td>1.596454</td>\n",
       "      <td>0.015007</td>\n",
       "      <td>0.008490</td>\n",
       "      <td>0.001828</td>\n",
       "      <td>0.0001</td>\n",
       "      <td>3</td>\n",
       "      <td>1</td>\n",
       "      <td>50</td>\n",
       "      <td>{'learning_rate': 0.0001, 'max_depth': 3, 'min...</td>\n",
       "      <td>0.997854</td>\n",
       "      <td>0.997854</td>\n",
       "      <td>0.997854</td>\n",
       "      <td>0.997854</td>\n",
       "      <td>0.0</td>\n",
       "      <td>1</td>\n",
       "      <td>1.0</td>\n",
       "      <td>1.0</td>\n",
       "      <td>1.0</td>\n",
       "      <td>1.0</td>\n",
       "      <td>0.0</td>\n",
       "    </tr>\n",
       "    <tr>\n",
       "      <th>2</th>\n",
       "      <td>3.283414</td>\n",
       "      <td>0.060930</td>\n",
       "      <td>0.004407</td>\n",
       "      <td>0.000402</td>\n",
       "      <td>0.0001</td>\n",
       "      <td>3</td>\n",
       "      <td>1</td>\n",
       "      <td>100</td>\n",
       "      <td>{'learning_rate': 0.0001, 'max_depth': 3, 'min...</td>\n",
       "      <td>0.997854</td>\n",
       "      <td>0.997854</td>\n",
       "      <td>0.997854</td>\n",
       "      <td>0.997854</td>\n",
       "      <td>0.0</td>\n",
       "      <td>1</td>\n",
       "      <td>1.0</td>\n",
       "      <td>1.0</td>\n",
       "      <td>1.0</td>\n",
       "      <td>1.0</td>\n",
       "      <td>0.0</td>\n",
       "    </tr>\n",
       "    <tr>\n",
       "      <th>3</th>\n",
       "      <td>7.043135</td>\n",
       "      <td>0.058479</td>\n",
       "      <td>0.006372</td>\n",
       "      <td>0.000407</td>\n",
       "      <td>0.0001</td>\n",
       "      <td>3</td>\n",
       "      <td>1</td>\n",
       "      <td>200</td>\n",
       "      <td>{'learning_rate': 0.0001, 'max_depth': 3, 'min...</td>\n",
       "      <td>0.997854</td>\n",
       "      <td>0.997854</td>\n",
       "      <td>0.997854</td>\n",
       "      <td>0.997854</td>\n",
       "      <td>0.0</td>\n",
       "      <td>1</td>\n",
       "      <td>1.0</td>\n",
       "      <td>1.0</td>\n",
       "      <td>1.0</td>\n",
       "      <td>1.0</td>\n",
       "      <td>0.0</td>\n",
       "    </tr>\n",
       "    <tr>\n",
       "      <th>4</th>\n",
       "      <td>8.248930</td>\n",
       "      <td>0.218542</td>\n",
       "      <td>0.007108</td>\n",
       "      <td>0.002218</td>\n",
       "      <td>0.0001</td>\n",
       "      <td>3</td>\n",
       "      <td>1</td>\n",
       "      <td>250</td>\n",
       "      <td>{'learning_rate': 0.0001, 'max_depth': 3, 'min...</td>\n",
       "      <td>0.997854</td>\n",
       "      <td>0.997854</td>\n",
       "      <td>0.997854</td>\n",
       "      <td>0.997854</td>\n",
       "      <td>0.0</td>\n",
       "      <td>1</td>\n",
       "      <td>1.0</td>\n",
       "      <td>1.0</td>\n",
       "      <td>1.0</td>\n",
       "      <td>1.0</td>\n",
       "      <td>0.0</td>\n",
       "    </tr>\n",
       "  </tbody>\n",
       "</table>\n",
       "</div>"
      ],
      "text/plain": [
       "   mean_fit_time  std_fit_time  mean_score_time  std_score_time  \\\n",
       "0       0.342153      0.029879         0.005097        0.001212   \n",
       "1       1.596454      0.015007         0.008490        0.001828   \n",
       "2       3.283414      0.060930         0.004407        0.000402   \n",
       "3       7.043135      0.058479         0.006372        0.000407   \n",
       "4       8.248930      0.218542         0.007108        0.002218   \n",
       "\n",
       "  param_learning_rate param_max_depth param_min_child_weight  \\\n",
       "0              0.0001               3                      1   \n",
       "1              0.0001               3                      1   \n",
       "2              0.0001               3                      1   \n",
       "3              0.0001               3                      1   \n",
       "4              0.0001               3                      1   \n",
       "\n",
       "  param_n_estimators                                             params  \\\n",
       "0                 10  {'learning_rate': 0.0001, 'max_depth': 3, 'min...   \n",
       "1                 50  {'learning_rate': 0.0001, 'max_depth': 3, 'min...   \n",
       "2                100  {'learning_rate': 0.0001, 'max_depth': 3, 'min...   \n",
       "3                200  {'learning_rate': 0.0001, 'max_depth': 3, 'min...   \n",
       "4                250  {'learning_rate': 0.0001, 'max_depth': 3, 'min...   \n",
       "\n",
       "   split0_test_score  split1_test_score  split2_test_score  mean_test_score  \\\n",
       "0           0.997854           0.997854           0.997854         0.997854   \n",
       "1           0.997854           0.997854           0.997854         0.997854   \n",
       "2           0.997854           0.997854           0.997854         0.997854   \n",
       "3           0.997854           0.997854           0.997854         0.997854   \n",
       "4           0.997854           0.997854           0.997854         0.997854   \n",
       "\n",
       "   std_test_score  rank_test_score  split0_train_score  split1_train_score  \\\n",
       "0             0.0                1                 1.0                 1.0   \n",
       "1             0.0                1                 1.0                 1.0   \n",
       "2             0.0                1                 1.0                 1.0   \n",
       "3             0.0                1                 1.0                 1.0   \n",
       "4             0.0                1                 1.0                 1.0   \n",
       "\n",
       "   split2_train_score  mean_train_score  std_train_score  \n",
       "0                 1.0               1.0              0.0  \n",
       "1                 1.0               1.0              0.0  \n",
       "2                 1.0               1.0              0.0  \n",
       "3                 1.0               1.0              0.0  \n",
       "4                 1.0               1.0              0.0  "
      ]
     },
     "execution_count": 38,
     "metadata": {},
     "output_type": "execute_result"
    }
   ],
   "source": [
    "df_xgb = pd.DataFrame(clf_xgb.cv_results_)\n",
    "df_xgb.head()"
   ]
  },
  {
   "cell_type": "code",
   "execution_count": 37,
   "metadata": {},
   "outputs": [
    {
     "data": {
      "image/png": "[encoded data removed]",
      "text/plain": [
       "<Figure size 432x288 with 1 Axes>"
      ]
     },
     "metadata": {
      "needs_background": "light"
     },
     "output_type": "display_data"
    }
   ],
   "source": [
    "test_scores = clf_xgb.cv_results_['mean_test_score']\n",
    "train_scores = clf_xgb.cv_results_['mean_train_score'] \n",
    "\n",
    "plt.plot(test_scores, label='test')\n",
    "plt.plot(train_scores, label='train')\n",
    "plt.legend(loc='best')\n",
    "plt.show()"
   ]
  },
  {
   "cell_type": "markdown",
   "metadata": {},
   "source": [
    "- It may also be identified by test accuracy that is lower than the training accuracy.  In this case, it indicates that the test set may be easier for the model to predict than training set.\n",
    "- I think, that graphic seem overfitting.  It can perfectly fit to any learning dataset and obtain 100% accuracy on it. But by fitting perfectly to the training set, it will have poor performance on new data that are not seen during training (overfitting). But also, the test accuracy not amount low. \n",
    "- So i can say, that seem overfitting but there are not overfitting. When confusion matrix is examined, it is seen that successful results are obtained on the test set."
   ]
  }
 ],
 "metadata": {
  "kernelspec": {
   "display_name": "Python 3",
   "language": "python",
   "name": "python3"
  },
  "language_info": {
   "codemirror_mode": {
    "name": "ipython",
    "version": 3
   },
   "file_extension": ".py",
   "mimetype": "text/x-python",
   "name": "python",
   "nbconvert_exporter": "python",
   "pygments_lexer": "ipython3",
   "version": "3.8.6"
  }
 },
 "nbformat": 4,
 "nbformat_minor": 4
}
